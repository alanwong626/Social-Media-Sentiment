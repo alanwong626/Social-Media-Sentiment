{
 "cells": [
  {
   "cell_type": "code",
   "execution_count": null,
   "id": "83b58e9a",
   "metadata": {},
   "outputs": [],
   "source": [
    "import yfinance as yf\n",
    "import streamlit as st\n",
    "import base64\n",
    "from io import BytesIO\n",
    "import pandas as pd\n",
    "from googlesearch import search\n",
    "\n",
    "def get_table_download_link(df):\n",
    "    \"\"\"Generates a link allowing the data in a given panda dataframe to be downloaded\n",
    "    in:  dataframe\n",
    "    out: href string\n",
    "    \"\"\"\n",
    "    csv = df.to_csv(index=False)\n",
    "    b64 = base64.b64encode(csv.encode()).decode()  # some strings <-> bytes conversions necessary here\n",
    "    href = f'<a href=\"data:file/csv;base64,{b64}\" download=\"myfilename.csv\">Download csv file</a>'\n",
    "    return href\n",
    "\n",
    "def name_convert(name):\n",
    "    searchval = 'yahoo finance '+name\n",
    "    link = []\n",
    "    #limits to the first link\n",
    "    for url in search(searchval, tld='es', lang='es', stop=1):\n",
    "        link.append(url)\n",
    "    print(link)\n",
    "    link = str(link[0])\n",
    "    link=link.split(\"/\")\n",
    "    if link[-1]=='':\n",
    "        ticker=link[-2]\n",
    "    else:\n",
    "        x=link[-1].split('=')\n",
    "        ticker=x[-1]\n",
    "    return(ticker)\n",
    "\n",
    "tickers_input = st.sidebar.text_input(\"Enter tickers or name here\",\"^HSI\")\n",
    "tickersName = tickers_input.replace(';',',').split(\",\")\n",
    "tickers=[]\n",
    "for kw in tickersName:\n",
    "\ttickers.append(name_convert(kw))\n",
    "start = st.sidebar.text_input(\"Start Date\",\"2020-01-01\")\n",
    "end = st.sidebar.text_input(\"End Date\",\"2021-01-01\")\n",
    "\n",
    "interval = st.sidebar.selectbox(\"Interval\",[\"1m\",\"2m\",\"5m\",\"15m\",\"30m\",\"60m\",\"90m\",\"1h\",\"1d\",\"5d\",\"1wk\",\"1mo\",\"3mo\"],8)\n",
    "group_by = st.sidebar.radio(\"group by\",[\"ticker\",\"column\"])\n",
    "prepostChoice = st.sidebar.radio(\"Include prepost market\", [\"True\",\"Flase\"])\n",
    "\n",
    "# st.write(tickers)\n",
    "prepost = True\n",
    "if prepostChoice == False:\n",
    "\tprepost = False\n",
    "if tickers != [] or tickers != \"\" or tickers != None:\n",
    "\tyfDf = yf.download(tickers, start=start,end=end,interval=interval,prepost=prepost,group_by=group_by)\n",
    "\n",
    "\n",
    "yfDf = yfDf.reset_index()\n",
    "st.dataframe(yfDf)\n",
    "st.markdown(get_table_download_link(yfDf),unsafe_allow_html=True)"
   ]
  },
  {
   "cell_type": "code",
   "execution_count": 5,
   "id": "e8d351a1",
   "metadata": {},
   "outputs": [],
   "source": [
    "import yfinance\n",
    "import pandas as pd\n",
    "import numpy as np"
   ]
  },
  {
   "cell_type": "code",
   "execution_count": 7,
   "id": "0c307917",
   "metadata": {},
   "outputs": [
    {
     "data": {
      "text/plain": [
       "['Ticker',\n",
       " 'Tickers',\n",
       " '__all__',\n",
       " '__author__',\n",
       " '__builtins__',\n",
       " '__cached__',\n",
       " '__doc__',\n",
       " '__file__',\n",
       " '__loader__',\n",
       " '__name__',\n",
       " '__package__',\n",
       " '__path__',\n",
       " '__spec__',\n",
       " '__version__',\n",
       " 'base',\n",
       " 'download',\n",
       " 'multi',\n",
       " 'pdr_override',\n",
       " 'shared',\n",
       " 'ticker',\n",
       " 'tickers',\n",
       " 'utils',\n",
       " 'version']"
      ]
     },
     "execution_count": 7,
     "metadata": {},
     "output_type": "execute_result"
    }
   ],
   "source": [
    "yfinance.download"
   ]
  },
  {
   "cell_type": "code",
   "execution_count": null,
   "id": "307ee7fd",
   "metadata": {},
   "outputs": [],
   "source": []
  }
 ],
 "metadata": {
  "kernelspec": {
   "display_name": "reddit",
   "language": "python",
   "name": "reddit"
  },
  "language_info": {
   "codemirror_mode": {
    "name": "ipython",
    "version": 3
   },
   "file_extension": ".py",
   "mimetype": "text/x-python",
   "name": "python",
   "nbconvert_exporter": "python",
   "pygments_lexer": "ipython3",
   "version": "3.9.12"
  }
 },
 "nbformat": 4,
 "nbformat_minor": 5
}
