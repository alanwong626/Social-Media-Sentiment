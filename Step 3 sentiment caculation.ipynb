{
 "cells": [
  {
   "cell_type": "code",
   "execution_count": 1,
   "metadata": {},
   "outputs": [],
   "source": [
    "import datetime as dt\n",
    "from datetime import datetime\n",
    "import pandas as pd\n",
    "import plotly.express as px\n",
    "from nltk.corpus import stopwords\n",
    "from nltk.tokenize import word_tokenize\n",
    "from nltk.sentiment.vader  import SentimentIntensityAnalyzer\n",
    "import matplotlib.pyplot as plt\n",
    "import os\n",
    "import yfinance as yf\n",
    "import plotly.graph_objects as go\n",
    "import numpy as np"
   ]
  },
  {
   "cell_type": "code",
   "execution_count": 2,
   "metadata": {},
   "outputs": [],
   "source": [
    "datafile = \"research_dataset/archive/\"\n",
    "\n",
    "all_subreddit = os.listdir(datafile)"
   ]
  },
  {
   "cell_type": "code",
   "execution_count": 3,
   "metadata": {},
   "outputs": [],
   "source": [
    "wsb = \"wallstreetbets/\"\n",
    "dataset_name = \"submissions_reddit.csv\"\n",
    "df = pd.read_csv(datafile + wsb + dataset_name)"
   ]
  },
  {
   "cell_type": "code",
   "execution_count": 4,
   "metadata": {},
   "outputs": [
    {
     "name": "stdout",
     "output_type": "stream",
     "text": [
      "id\n",
      "775326\n",
      "['ko124i' 'ko12uq' 'ko13df' 'ko17yf' 'ko1a4i']\n",
      "author\n",
      "373850\n",
      "['[deleted]' 'shirotimatim' 'WSBVoteBot' 'dluther93' 'iOinkedU']\n",
      "created\n",
      "637101\n",
      "['2021-01-01 00:02:06' '2021-01-01 00:03:20' '2021-01-01 00:04:11'\n",
      " '2021-01-01 00:11:51' '2021-01-01 00:15:38']\n",
      "retrieved\n",
      "25815\n",
      "['2021-02-02 21:52:13' '2021-02-02 21:52:14' '2021-02-02 21:52:15'\n",
      " '2021-02-02 21:52:16' '2021-02-02 21:52:18']\n",
      "edited\n",
      "20617\n",
      "['1970-01-01 00:00:00' '2021-01-01 03:50:40' '2021-01-01 16:59:32'\n",
      " '2021-01-01 02:08:00' '2021-01-01 02:27:41']\n",
      "pinned\n",
      "1\n",
      "[0]\n",
      "archived\n",
      "1\n",
      "[0]\n",
      "locked\n",
      "2\n",
      "[0 1]\n",
      "removed\n",
      "2\n",
      "[1 0]\n",
      "deleted\n",
      "2\n",
      "[1 0]\n",
      "is_self\n",
      "2\n",
      "[1 0]\n",
      "is_video\n",
      "2\n",
      "[0 1]\n",
      "is_original_content\n",
      "2\n",
      "[0 1]\n",
      "title\n",
      "694826\n",
      "['3k - 170k since March (Also, buy LIT!!)'\n",
      " 'Got out of PLTR calls after learning about IV (thanks to wsb) and went into TSLA/FUTU calls. Ending 2020 with a small profit. Wishing everyone more tendies going into 2021 and a happy new year fam.'\n",
      " 'Hell of a headline'\n",
      " 'Top popular stocks on WSB too! Also, why they didn’t give my boy PLTR a fucking percentage??'\n",
      " 'WSBVoteBot Log for Jan 01 2021']\n",
      "link_flair_text\n",
      "48\n",
      "['Gain' 'Meme' 'News' 'None' 'Discussion']\n",
      "upvote_ratio\n",
      "101\n",
      "[1.   0.88 0.92 0.5  0.78]\n",
      "score\n",
      "6119\n",
      "[ 34   2  13 183   0]\n",
      "gilded\n",
      "45\n",
      "[  0   3   1   2 108]\n",
      "total_awards_received\n",
      "530\n",
      "[ 1  0 15  4  6]\n",
      "num_comments\n",
      "2353\n",
      "[14  0  7 26 19]\n",
      "num_crossposts\n",
      "56\n",
      "[0 1 2 3 7]\n",
      "selftext\n",
      "33050\n",
      "['[deleted]' nan\n",
      " 'Every time a new submission is posted to wallstreetbets /u/wsbvotebot posts a comment that allows you to click and vote to remove that submission. This is the log of volunteer moderators actions which you can vote to reverse. [Check the leaderboard](https://www.reddit.com/r/wallstreetbets/wiki/leaderboard) to see who is doing the most to keep /r/wallstreetbets great.\\n\\nUser commentary as replies to the messages below are encouraged. Report bugs to /u/zjz.'\n",
      " '[removed]'\n",
      " 'Gamestop colors: Red, White and Black\\n\\nHouston Rockets colors: Red, White, and Black\\n\\nWhat state are both in? That\\'s right. Texas.\\n\\nNow some of you retards with access to the internet might be fact-checking this, and see that Gamestop is in Grapevine, TX, which is closer to Dallas than Houston.\\n\\nBut look at the fucking game right now. What color jerseys are the Rockets wearing? Exactly. Blue, the same color as the Dallas Mavericks, and the Houston Oilers (who had red, white, and blue color schemes)\\n\\nTo make things more interesting, the sons of the guy who founded \"Babbages,\" which eventually became gamestop, got a deal on Shark Tank with non other than Mark Cuban, the owner of the Mavericks himself.\\n\\nNow if we take the R in \"Rockets\" and C in \"Cuban\", we get RC: Ryan Cohen.\\n\\nCheckmate liberals (and conservatives alike)\\n\\nEdit: Last thing. The Mavs, who normally wear blue, are wearing GREEN tonight. It\\'s too obvious to miss at this point. \\n\\nTldr; Houston Rockets wearing blue tonight, signaling imminent GME 🚀🚀🚀🚀🚀🚀🚀🚀🚀🚀🚀🚀']\n",
      "thumbnail\n",
      "56651\n",
      "['default'\n",
      " 'https://b.thumbs.redditmedia.com/LmWdNB0W1qHT01I3_5FUbCExoPd_kZ7-4CwkwIqlRzk.jpg'\n",
      " 'self'\n",
      " 'https://b.thumbs.redditmedia.com/DOcgf2xdSW2HpmAOF9UbeNNV1GF1NjAeePr995CGbRw.jpg'\n",
      " 'https://b.thumbs.redditmedia.com/aCBxnWu9lGZ1EmezDfDMfkNXHcSx_8-dPPNtaVsOsKU.jpg']\n",
      "shortlink\n",
      "775326\n",
      "['https://redd.it/ko124i' 'https://redd.it/ko12uq'\n",
      " 'https://redd.it/ko13df' 'https://redd.it/ko17yf'\n",
      " 'https://redd.it/ko1a4i']\n"
     ]
    }
   ],
   "source": [
    "for col in df:\n",
    "    unique = (df[col].unique())\n",
    "    print(col)\n",
    "    print(len(unique))\n",
    "    print(unique[:5])"
   ]
  },
  {
   "cell_type": "code",
   "execution_count": 5,
   "metadata": {},
   "outputs": [
    {
     "data": {
      "text/plain": [
       "Index(['id', 'author', 'created', 'retrieved', 'edited', 'pinned', 'archived',\n",
       "       'locked', 'removed', 'deleted', 'is_self', 'is_video',\n",
       "       'is_original_content', 'title', 'link_flair_text', 'upvote_ratio',\n",
       "       'score', 'gilded', 'total_awards_received', 'num_comments',\n",
       "       'num_crossposts', 'selftext', 'thumbnail', 'shortlink'],\n",
       "      dtype='object')"
      ]
     },
     "execution_count": 5,
     "metadata": {},
     "output_type": "execute_result"
    }
   ],
   "source": [
    "df.columns"
   ]
  },
  {
   "cell_type": "code",
   "execution_count": 6,
   "metadata": {},
   "outputs": [],
   "source": [
    "df[\"created_date\"] = df[\"created\"].apply(lambda x: x[:10])"
   ]
  },
  {
   "cell_type": "code",
   "execution_count": 7,
   "metadata": {},
   "outputs": [],
   "source": [
    "num_post = df.groupby([\"created_date\"])[[\"id\"]].count().rename(columns = {\"id\":\"Post Count\"})\n",
    "num_post.index =  pd.to_datetime(num_post.index)"
   ]
  },
  {
   "cell_type": "code",
   "execution_count": 8,
   "metadata": {},
   "outputs": [
    {
     "name": "stdout",
     "output_type": "stream",
     "text": [
      "[*********************100%***********************]  2 of 2 completed\n"
     ]
    }
   ],
   "source": [
    "stock_data = yf.download(\"SPY GME \", start = \"2021-1-1\", end=\"2021-12-31\",group_by=\"ticker\")"
   ]
  },
  {
   "cell_type": "code",
   "execution_count": 9,
   "metadata": {},
   "outputs": [],
   "source": [
    "post_and_gme = pd.concat([num_post, stock_data[\"GME\"][\"Adj Close\"]],axis=1).rename"
   ]
  },
  {
   "cell_type": "code",
   "execution_count": 10,
   "metadata": {},
   "outputs": [
    {
     "data": {
      "text/plain": [
       "<bound method DataFrame.rename of             Post Count   Adj Close\n",
       "2020-12-31         NaN   18.840000\n",
       "2021-01-01       443.0         NaN\n",
       "2021-01-02       467.0         NaN\n",
       "2021-01-03       441.0         NaN\n",
       "2021-01-04       786.0   17.250000\n",
       "...                ...         ...\n",
       "2021-12-27       560.0  148.309998\n",
       "2021-12-28       557.0  146.460007\n",
       "2021-12-29       675.0  153.929993\n",
       "2021-12-30       669.0  155.330002\n",
       "2021-12-31       621.0         NaN\n",
       "\n",
       "[366 rows x 2 columns]>"
      ]
     },
     "execution_count": 10,
     "metadata": {},
     "output_type": "execute_result"
    }
   ],
   "source": [
    "post_and_gme"
   ]
  },
  {
   "cell_type": "code",
   "execution_count": 15,
   "metadata": {},
   "outputs": [
    {
     "ename": "NameError",
     "evalue": "name 'log_post_and_gme' is not defined",
     "output_type": "error",
     "traceback": [
      "\u001b[1;31m---------------------------------------------------------------------------\u001b[0m",
      "\u001b[1;31mNameError\u001b[0m                                 Traceback (most recent call last)",
      "Input \u001b[1;32mIn [15]\u001b[0m, in \u001b[0;36m<cell line: 4>\u001b[1;34m()\u001b[0m\n\u001b[0;32m      2\u001b[0m fig\u001b[38;5;241m.\u001b[39mset_size_inches((\u001b[38;5;241m16\u001b[39m,\u001b[38;5;241m8\u001b[39m))\n\u001b[0;32m      3\u001b[0m \u001b[38;5;66;03m# make a plot\u001b[39;00m\n\u001b[1;32m----> 4\u001b[0m ax\u001b[38;5;241m.\u001b[39mplot(\u001b[43mlog_post_and_gme\u001b[49m\u001b[38;5;241m.\u001b[39mindex, log_post_and_gme\u001b[38;5;241m.\u001b[39mid, color\u001b[38;5;241m=\u001b[39m\u001b[38;5;124m\"\u001b[39m\u001b[38;5;124mred\u001b[39m\u001b[38;5;124m\"\u001b[39m)\n\u001b[0;32m      5\u001b[0m \u001b[38;5;66;03m# set x-axis label\u001b[39;00m\n\u001b[0;32m      6\u001b[0m ax\u001b[38;5;241m.\u001b[39mset_xlabel(\u001b[38;5;124m\"\u001b[39m\u001b[38;5;124mTime\u001b[39m\u001b[38;5;124m\"\u001b[39m,fontsize\u001b[38;5;241m=\u001b[39m\u001b[38;5;241m14\u001b[39m)\n",
      "\u001b[1;31mNameError\u001b[0m: name 'log_post_and_gme' is not defined"
     ]
    },
    {
     "data": {
      "image/png": "[encoded data removed]",
      "text/plain": [
       "<Figure size 1152x576 with 1 Axes>"
      ]
     },
     "metadata": {
      "needs_background": "light"
     },
     "output_type": "display_data"
    }
   ],
   "source": [
    "fig,ax = plt.subplots()\n",
    "fig.set_size_inches((16,8))\n",
    "# make a plot\n",
    "ax.plot(log_post_and_gme.index, log_post_and_gme.id, color=\"red\")\n",
    "# set x-axis label\n",
    "ax.set_xlabel(\"Time\",fontsize=14)\n",
    "# set y-axis label\n",
    "ax.set_ylabel(\"WSB Post\",color=\"red\",fontsize=14)\n",
    "# twin object for two different y-axis on the sample plot\n",
    "ax2=ax.twinx()\n",
    "# make a plot with different y-axis using second axis object\n",
    "ax2.plot(post_and_gme.index, post_and_gme[\"Adj Close\"],color=\"blue\")\n",
    "ax2.set_ylabel(\"GME Price\",color=\"blue\",fontsize=14)\n",
    "\n",
    "plt.show()\n",
    "# save the plot as a file\n",
    "fig.savefig('two_different_y_axis_for_single_python_plot_with_twinx.jpg',\n",
    "            format='jpeg',\n",
    "            dpi=100,\n",
    "            bbox_inches='tight')\n"
   ]
  },
  {
   "cell_type": "code",
   "execution_count": 16,
   "metadata": {
    "scrolled": false
   },
   "outputs": [
    {
     "ename": "NameError",
     "evalue": "name 'log_post_and_gme' is not defined",
     "output_type": "error",
     "traceback": [
      "\u001b[1;31m---------------------------------------------------------------------------\u001b[0m",
      "\u001b[1;31mNameError\u001b[0m                                 Traceback (most recent call last)",
      "Input \u001b[1;32mIn [16]\u001b[0m, in \u001b[0;36m<cell line: 1>\u001b[1;34m()\u001b[0m\n\u001b[1;32m----> 1\u001b[0m abs_lpag \u001b[38;5;241m=\u001b[39m \u001b[38;5;28mabs\u001b[39m(\u001b[43mlog_post_and_gme\u001b[49m\u001b[38;5;241m.\u001b[39mpct_change())\n\u001b[0;32m      2\u001b[0m abs_pag \u001b[38;5;241m=\u001b[39m \u001b[38;5;28mabs\u001b[39m(post_and_gme\u001b[38;5;241m.\u001b[39mpct_change())\n",
      "\u001b[1;31mNameError\u001b[0m: name 'log_post_and_gme' is not defined"
     ]
    }
   ],
   "source": [
    "abs_lpag = abs(log_post_and_gme.pct_change())\n",
    "abs_pag = abs(post_and_gme.pct_change())"
   ]
  },
  {
   "cell_type": "code",
   "execution_count": 17,
   "metadata": {},
   "outputs": [
    {
     "ename": "NameError",
     "evalue": "name 'abs_lpag' is not defined",
     "output_type": "error",
     "traceback": [
      "\u001b[1;31m---------------------------------------------------------------------------\u001b[0m",
      "\u001b[1;31mNameError\u001b[0m                                 Traceback (most recent call last)",
      "Input \u001b[1;32mIn [17]\u001b[0m, in \u001b[0;36m<cell line: 4>\u001b[1;34m()\u001b[0m\n\u001b[0;32m      2\u001b[0m fig\u001b[38;5;241m.\u001b[39mset_size_inches((\u001b[38;5;241m16\u001b[39m,\u001b[38;5;241m8\u001b[39m))\n\u001b[0;32m      3\u001b[0m \u001b[38;5;66;03m# make a plot\u001b[39;00m\n\u001b[1;32m----> 4\u001b[0m ax\u001b[38;5;241m.\u001b[39mplot(\u001b[43mabs_lpag\u001b[49m\u001b[38;5;241m.\u001b[39mindex, abs_lpag\u001b[38;5;241m.\u001b[39mid, color\u001b[38;5;241m=\u001b[39m\u001b[38;5;124m\"\u001b[39m\u001b[38;5;124mred\u001b[39m\u001b[38;5;124m\"\u001b[39m)\n\u001b[0;32m      5\u001b[0m \u001b[38;5;66;03m# set x-axis label\u001b[39;00m\n\u001b[0;32m      6\u001b[0m ax\u001b[38;5;241m.\u001b[39mset_xlabel(\u001b[38;5;124m\"\u001b[39m\u001b[38;5;124mTime\u001b[39m\u001b[38;5;124m\"\u001b[39m,fontsize\u001b[38;5;241m=\u001b[39m\u001b[38;5;241m14\u001b[39m)\n",
      "\u001b[1;31mNameError\u001b[0m: name 'abs_lpag' is not defined"
     ]
    },
    {
     "data": {
      "image/png": "[encoded data removed]",
      "text/plain": [
       "<Figure size 1152x576 with 1 Axes>"
      ]
     },
     "metadata": {
      "needs_background": "light"
     },
     "output_type": "display_data"
    }
   ],
   "source": [
    "fig,ax = plt.subplots()\n",
    "fig.set_size_inches((16,8))\n",
    "# make a plot\n",
    "ax.plot(abs_lpag.index, abs_lpag.id, color=\"red\")\n",
    "# set x-axis label\n",
    "ax.set_xlabel(\"Time\",fontsize=14)\n",
    "# set y-axis label\n",
    "ax.set_ylabel(\"WSB Post\",color=\"red\",fontsize=14)\n",
    "# twin object for two different y-axis on the sample plot\n",
    "ax2=ax.twinx()\n",
    "# make a plot with different y-axis using second axis object\n",
    "ax2.plot(abs_pag.index, abs_pag[\"Adj Close\"],color=\"blue\")\n",
    "ax2.set_ylabel(\"GME Price\",color=\"blue\",fontsize=14)\n",
    "\n",
    "plt.show()\n",
    "# save the plot as a file\n",
    "fig.savefig('two_different_y_axis_for_single_python_plot_with_twinx.jpg',\n",
    "            format='jpeg',\n",
    "            dpi=100,\n",
    "            bbox_inches='tight')\n"
   ]
  },
  {
   "cell_type": "code",
   "execution_count": 18,
   "metadata": {},
   "outputs": [
    {
     "ename": "NameError",
     "evalue": "name 'log_post_and_gme' is not defined",
     "output_type": "error",
     "traceback": [
      "\u001b[1;31m---------------------------------------------------------------------------\u001b[0m",
      "\u001b[1;31mNameError\u001b[0m                                 Traceback (most recent call last)",
      "Input \u001b[1;32mIn [18]\u001b[0m, in \u001b[0;36m<cell line: 1>\u001b[1;34m()\u001b[0m\n\u001b[1;32m----> 1\u001b[0m plt\u001b[38;5;241m.\u001b[39mscatter(\u001b[43mlog_post_and_gme\u001b[49m[\u001b[38;5;124m\"\u001b[39m\u001b[38;5;124mAdj Close\u001b[39m\u001b[38;5;124m\"\u001b[39m], log_post_and_gme[\u001b[38;5;124m\"\u001b[39m\u001b[38;5;124mPost Count\u001b[39m\u001b[38;5;124m\"\u001b[39m])\n",
      "\u001b[1;31mNameError\u001b[0m: name 'log_post_and_gme' is not defined"
     ]
    }
   ],
   "source": [
    "plt.scatter(log_post_and_gme[\"Adj Close\"], log_post_and_gme[\"Post Count\"])"
   ]
  },
  {
   "cell_type": "code",
   "execution_count": 11,
   "metadata": {},
   "outputs": [
    {
     "ename": "AttributeError",
     "evalue": "'function' object has no attribute 'index'",
     "output_type": "error",
     "traceback": [
      "\u001b[1;31m---------------------------------------------------------------------------\u001b[0m",
      "\u001b[1;31mAttributeError\u001b[0m                            Traceback (most recent call last)",
      "Input \u001b[1;32mIn [11]\u001b[0m, in \u001b[0;36m<cell line: 4>\u001b[1;34m()\u001b[0m\n\u001b[0;32m      2\u001b[0m fig\u001b[38;5;241m.\u001b[39mset_size_inches((\u001b[38;5;241m16\u001b[39m,\u001b[38;5;241m8\u001b[39m))\n\u001b[0;32m      3\u001b[0m \u001b[38;5;66;03m# make a plot\u001b[39;00m\n\u001b[1;32m----> 4\u001b[0m ax\u001b[38;5;241m.\u001b[39mplot(\u001b[43mpost_and_gme\u001b[49m\u001b[38;5;241;43m.\u001b[39;49m\u001b[43mindex\u001b[49m, post_and_gme\u001b[38;5;241m.\u001b[39mid, color\u001b[38;5;241m=\u001b[39m\u001b[38;5;124m\"\u001b[39m\u001b[38;5;124mred\u001b[39m\u001b[38;5;124m\"\u001b[39m)\n\u001b[0;32m      5\u001b[0m \u001b[38;5;66;03m# set x-axis label\u001b[39;00m\n\u001b[0;32m      6\u001b[0m ax\u001b[38;5;241m.\u001b[39mset_xlabel(\u001b[38;5;124m\"\u001b[39m\u001b[38;5;124mTime\u001b[39m\u001b[38;5;124m\"\u001b[39m,fontsize\u001b[38;5;241m=\u001b[39m\u001b[38;5;241m14\u001b[39m)\n",
      "\u001b[1;31mAttributeError\u001b[0m: 'function' object has no attribute 'index'"
     ]
    },
    {
     "data": {
      "image/png": "[encoded data removed]",
      "text/plain": [
       "<Figure size 1152x576 with 1 Axes>"
      ]
     },
     "metadata": {
      "needs_background": "light"
     },
     "output_type": "display_data"
    }
   ],
   "source": [
    "fig,ax = plt.subplots()\n",
    "fig.set_size_inches((16,8))\n",
    "# make a plot\n",
    "ax.plot(post_and_gme.index, post_and_gme.id, color=\"red\")\n",
    "# set x-axis label\n",
    "ax.set_xlabel(\"Time\",fontsize=14)\n",
    "# set y-axis label\n",
    "ax.set_ylabel(\"WSB Post\",color=\"red\",fontsize=14)\n",
    "# twin object for two different y-axis on the sample plot\n",
    "ax2=ax.twinx()\n",
    "# make a plot with different y-axis using second axis object\n",
    "ax2.plot(post_and_gme.index, post_and_gme[\"Adj Close\"],color=\"blue\")\n",
    "ax2.set_ylabel(\"GME Price\",color=\"blue\",fontsize=14)\n",
    "\n",
    "plt.show()\n",
    "# save the plot as a file\n",
    "fig.savefig('two_different_y_axis_for_single_python_plot_with_twinx.jpg',\n",
    "            format='jpeg',\n",
    "            dpi=100,\n",
    "            bbox_inches='tight')\n"
   ]
  },
  {
   "cell_type": "code",
   "execution_count": 12,
   "metadata": {},
   "outputs": [
    {
     "ename": "TypeError",
     "evalue": "loop of ufunc does not support argument 0 of type method which has no callable log method",
     "output_type": "error",
     "traceback": [
      "\u001b[1;31m---------------------------------------------------------------------------\u001b[0m",
      "\u001b[1;31mAttributeError\u001b[0m                            Traceback (most recent call last)",
      "\u001b[1;31mAttributeError\u001b[0m: 'function' object has no attribute 'log'",
      "\nThe above exception was the direct cause of the following exception:\n",
      "\u001b[1;31mTypeError\u001b[0m                                 Traceback (most recent call last)",
      "Input \u001b[1;32mIn [12]\u001b[0m, in \u001b[0;36m<cell line: 1>\u001b[1;34m()\u001b[0m\n\u001b[1;32m----> 1\u001b[0m log_post_and_gme \u001b[38;5;241m=\u001b[39m \u001b[43mnp\u001b[49m\u001b[38;5;241;43m.\u001b[39;49m\u001b[43mlog\u001b[49m\u001b[43m(\u001b[49m\u001b[43mpost_and_gme\u001b[49m\u001b[43m)\u001b[49m\n",
      "\u001b[1;31mTypeError\u001b[0m: loop of ufunc does not support argument 0 of type method which has no callable log method"
     ]
    }
   ],
   "source": [
    "log_post_and_gme = np.log(post_and_gme)"
   ]
  },
  {
   "cell_type": "code",
   "execution_count": null,
   "metadata": {},
   "outputs": [],
   "source": []
  }
 ],
 "metadata": {
  "kernelspec": {
   "display_name": "reddit",
   "language": "python",
   "name": "reddit"
  },
  "language_info": {
   "codemirror_mode": {
    "name": "ipython",
    "version": 3
   },
   "file_extension": ".py",
   "mimetype": "text/x-python",
   "name": "python",
   "nbconvert_exporter": "python",
   "pygments_lexer": "ipython3",
   "version": "3.9.12"
  }
 },
 "nbformat": 4,
 "nbformat_minor": 2
}
