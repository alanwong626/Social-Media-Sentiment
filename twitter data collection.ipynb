{
 "cells": [
  {
   "cell_type": "code",
   "execution_count": 1,
   "id": "43151353",
   "metadata": {},
   "outputs": [],
   "source": [
    "import twint\n",
    "import nest_asyncio # Fix for running twint on jupyter notebook"
   ]
  },
  {
   "cell_type": "code",
   "execution_count": 2,
   "id": "086a20e4",
   "metadata": {},
   "outputs": [],
   "source": [
    "nest_asyncio.apply()"
   ]
  },
  {
   "cell_type": "code",
   "execution_count": 3,
   "id": "907ead79",
   "metadata": {},
   "outputs": [],
   "source": [
    "config = twint.Config()\n",
    "config.Search = \"bitcoin\"\n",
    "config.Limit= 10"
   ]
  },
  {
   "cell_type": "code",
   "execution_count": 4,
   "id": "b366ad3b",
   "metadata": {},
   "outputs": [
    {
     "name": "stdout",
     "output_type": "stream",
     "text": [
      "1529008935197351936 2022-05-24 15:58:32 +0800 <cccomtr> 🚨RIPPLE XRP: CONFIRMED THE CHOSEN ONE⚠️THE GLOBAL SETTLEMENT TOKEN🚨RIPPLE XRP NEWS TODAY  https://t.co/l6CjhVxhxt #cryptocurrency #cryptonews #cryptocurrencynews #bitcoin\n",
      "1529008932345327616 2022-05-24 15:58:31 +0800 <cryptomoonteam> Buy NFT save your wealth for TERRA 2.0 My ninja 😎  #blockchain  #Bitcoin #Terra #luna $Luna   https://t.co/8spJ9owXBQ\n",
      "1529008932164972544 2022-05-24 15:58:31 +0800 <cccomtr> Law Decoded: The long waves in the aftermath of UST’s crash, May 16-23  https://t.co/qOA1hhy2mi #cryptocurrency #cryptonews #cryptocurrencynews #bitcoin\n",
      "1529008928616587264 2022-05-24 15:58:30 +0800 <cccomtr> How Tectum Is Using SoftNote To Replace Paper Money And Rewarding Users in our ecostream  https://t.co/IIlslVbY9C #cryptocurrency #cryptonews #cryptocurrencynews #bitcoin\n",
      "1529008927878574080 2022-05-24 15:58:30 +0800 <XabSeb> @N_th4n what exactly do you mean with bitcoin regulation?\n",
      "1529008925500137472 2022-05-24 15:58:30 +0800 <cccomtr> 'Have stayed away from crypto completely,' says Gita Gopinath  https://t.co/t5DLV4vKv3 #cryptocurrency #cryptonews #cryptocurrencynews #bitcoin\n",
      "1529008922291580928 2022-05-24 15:58:29 +0800 <cccomtr> SoftBank-Backed Delhivery Jumps More Than 10% in Mumbai Debut  https://t.co/EDR0j8yOPn #cryptocurrency #cryptonews #cryptocurrencynews #bitcoin\n",
      "1529008921263976451 2022-05-24 15:58:29 +0800 <SquawkCrypto> Top movers: Anchor Protocol $ANC and $BETA Finance (Chart), soaring 40.47% since midnight. The crypto markets have plunged. Over the last 24 hours, the NWST1100 has plunged 3.61%, Bitcoin $BTC 3.84%, and Ether $ETH 3.58%.   https://t.co/zGvQs2laja #cryptoinvesting #cryptotrading  https://t.co/ezVchn6XQy\n",
      "1529008917602263040 2022-05-24 15:58:28 +0800 <cccomtr> Crypto Firms Launch Community-Powered Scam Reporting Platform 'Chainabuse' – Featured Bitcoin News  https://t.co/xQkaYSqSoo #cryptocurrency #cryptonews #cryptocurrencynews #bitcoin\n",
      "1529008915890962432 2022-05-24 15:58:27 +0800 <cccomtr> Coinbase offers 'thousands of tokens' in new swap feature  https://t.co/Dy1sBw0msR #cryptocurrency #cryptonews #cryptocurrencynews #bitcoin\n",
      "1529008912699211776 2022-05-24 15:58:27 +0800 <cccomtr> FTX reportedly shopping for brokerages in preparation for stock trading  https://t.co/jK3y2JMsxc #cryptocurrency #cryptonews #cryptocurrencynews #bitcoin\n",
      "1529008909041672192 2022-05-24 15:58:26 +0800 <cccomtr> Core Ethereum developer details changes to expect after the Merge By Cointelegraph  https://t.co/b1wbgXJcoI #cryptocurrency #cryptonews #cryptocurrencynews #bitcoin\n",
      "1529008903379464192 2022-05-24 15:58:24 +0800 <cccomtr> Russia was invading, so a Ukrainian converted his life savings of $10,500 into crypto-token terra. Then, the token crashed.  https://t.co/I9hgPfrSuw #cryptocurrency #cryptonews #cryptocurrencynews #bitcoin\n",
      "1529008898421792768 2022-05-24 15:58:23 +0800 <cccomtr> Weakening rupee, choppy market spell trouble for overseas students. Here’s how to manage your money  https://t.co/RajRqPVyHs #cryptocurrency #cryptonews #cryptocurrencynews #bitcoin\n",
      "1529008894500118533 2022-05-24 15:58:22 +0800 <cccomtr> Is Fantom (FTM) crypto rising on Andre Cronje news?  https://t.co/oAYu4qcuuW #cryptocurrency #cryptonews #cryptocurrencynews #bitcoin\n",
      "1529008892100939777 2022-05-24 15:58:22 +0800 <BTC_WhaleAlert> 🚨 319 #BTC (9,318,029 USD) just transferred 🚨  From: 37WSc7t8vubPrfiFo6i2j11QQLuf8Qyoxy  To: 3QTgS3n2yt7JswuRGGW3nXynC7S7pybEz3  Tx hash: d1a063df4602e907a74ba5e1636b518273a1b22a9d6e84d32d36ef55eafa82b0  #Bitcoin $BTC\n",
      "1529008891853520899 2022-05-24 15:58:22 +0800 <cccomtr> South Korean Police To Freeze Terra's (LUNA) LFG Funds On Embezzlement Allegations  https://t.co/a28w864MzZ #cryptocurrency #cryptonews #cryptocurrencynews #bitcoin\n",
      "1529008887931801600 2022-05-24 15:58:21 +0800 <cccomtr> This is what India’s crypto-sector needs more than anything  https://t.co/Wfm5sa1gM9 #cryptocurrency #cryptonews #cryptocurrencynews #bitcoin\n"
     ]
    }
   ],
   "source": [
    "twint.run.Search(config)"
   ]
  },
  {
   "cell_type": "code",
   "execution_count": null,
   "id": "a7b01dc6",
   "metadata": {},
   "outputs": [],
   "source": []
  }
 ],
 "metadata": {
  "kernelspec": {
   "display_name": "reddit",
   "language": "python",
   "name": "reddit"
  },
  "language_info": {
   "codemirror_mode": {
    "name": "ipython",
    "version": 3
   },
   "file_extension": ".py",
   "mimetype": "text/x-python",
   "name": "python",
   "nbconvert_exporter": "python",
   "pygments_lexer": "ipython3",
   "version": "3.9.12"
  }
 },
 "nbformat": 4,
 "nbformat_minor": 5
}
