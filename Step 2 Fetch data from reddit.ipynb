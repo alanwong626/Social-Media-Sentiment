{
 "cells": [
  {
   "cell_type": "code",
   "execution_count": 1,
   "id": "5f683356",
   "metadata": {},
   "outputs": [],
   "source": [
    "import pandas as pd\n",
    "import numpy as np\n",
    "from psaw import PushshiftAPI\n",
    "import psycopg2 as pg\n",
    "import psycopg2.extras\n",
    "import datetime"
   ]
  },
  {
   "cell_type": "code",
   "execution_count": 2,
   "id": "c546eb8b",
   "metadata": {},
   "outputs": [],
   "source": [
    "start_time = int(datetime.datetime(2022,5,14).timestamp())"
   ]
  },
  {
   "cell_type": "code",
   "execution_count": 3,
   "id": "cf404233",
   "metadata": {},
   "outputs": [],
   "source": [
    "api = PushshiftAPI()"
   ]
  },
  {
   "cell_type": "code",
   "execution_count": 4,
   "id": "5fff95de",
   "metadata": {
    "scrolled": true
   },
   "outputs": [
    {
     "name": "stdout",
     "output_type": "stream",
     "text": [
      "['$MARA']\n",
      "['$DELL']\n",
      "['$1.50']\n",
      "'$1.50'\n",
      "['$20,000,000,000']\n",
      "'$20,000,000,000'\n",
      "['$AMZN']\n",
      "['$TSLA']\n",
      "['$362']\n",
      "'$362'\n",
      "['$50', '$22.', '$22']\n",
      "'$50'\n",
      "'$22.'\n",
      "'$22'\n",
      "['$GME']\n",
      "['$BABA', '$BTO', '$PDD', '$NIO', '$BIDU', '$DLTR', '$DG', '$LULU', '$GME', '$CZR', '$SPLK', '$ETSY']\n",
      "['$BABA', '$BTO', '$PDD', '$NIO', '$BIDU', '$DLTR', '$DG', '$LULU', '$GME', '$CZR', '$SPLK', '$ETSY']\n",
      "['$BABA', '$BTO', '$PDD', '$NIO', '$BIDU', '$DLTR', '$DG', '$LULU', '$GME', '$CZR', '$SPLK', '$ETSY']\n",
      "['$790']\n",
      "'$790'\n",
      "['$69']\n",
      "'$69'\n",
      "['$GME']\n",
      "['$']\n",
      "'$'\n",
      "['$HMTXF']\n",
      "['$']\n",
      "'$'\n",
      "['$4-$400']\n",
      "'$4-$400'\n",
      "['$16']\n",
      "'$16'\n",
      "['$4-&gt;$400']\n",
      "'$4-&GT;$400'\n",
      "['$CGC']\n",
      "['$400', '$983']\n",
      "'$400'\n",
      "'$983'\n",
      "['$750']\n",
      "'$750'\n",
      "['$PARA', '$GRPN']\n",
      "['$GME']\n",
      "['$HEM']\n",
      "'$HEM'\n",
      "['$HEM']\n",
      "'$HEM'\n",
      "['$5']\n",
      "'$5'\n",
      "['$HEM']\n",
      "'$HEM'\n",
      "['$rope.']\n",
      "'$ROPE.'\n",
      "['$GME']\n",
      "['$HIBB']\n",
      "['$1,379', '$8,592']\n",
      "'$1,379'\n",
      "'$8,592'\n"
     ]
    }
   ],
   "source": [
    "### Create a generator onject with {limit} submissions from {subreddit}\n",
    "### Showing only fields in {filter}\n",
    "connection = pg.connect(\n",
    "   database=\"postgres\", user='postgres', password='admin', host='localhost', port= '5432'\n",
    ")\n",
    "cursor = connection.cursor()\n",
    "\n",
    "cursor.execute(\"\"\"CREATE EXTENSION IF NOT EXISTS timescaledb CASCADE;\"\"\")\n",
    "cursor.execute(\"\"\"\n",
    "        CREATE TABLE IF NOT EXISTS  mention (\n",
    "        stock_id VARCHAR(255),\n",
    "        dt TIMESTAMP WITHOUT TIME ZONE NOT NULL,\n",
    "        message TEXT NOT NULL,\n",
    "        source TEXT NOT NULL,\n",
    "        url TEXT NOT NULL,\n",
    "        PRIMARY KEY (stock_id, dt),\n",
    "        CONSTRAINT fk_mention_stock FOREIGN KEY (stock_id) REFERENCES tickers (internal_id)\n",
    "        );\n",
    "        SELECT create_hypertable('mention', 'dt', if_not_exists => TRUE);\n",
    "    \"\"\")\n",
    "cursor = connection.cursor(cursor_factory=psycopg2.extras.DictCursor)\n",
    "cursor.execute(\"\"\"\n",
    "    SELECT * FROM tickers\n",
    "\"\"\")\n",
    "rows = cursor.fetchall()\n",
    "stocks = {}\n",
    "for row in rows:\n",
    "     stocks[f\"${row['symbol']}\"] = row[\"internal_id\"]\n",
    "        \n",
    "submissions = list(api.search_submissions(after= start_time,\n",
    "                            subreddit = 'wallstreetbets',\n",
    "                            filter = [\"url\", \"author\", \"title\", \"subreddit\"],\n",
    "                            limit = 300\n",
    "                                         ))\n",
    "current_source = \"WallStreetBets\"\n",
    "for submission in submissions:\n",
    "    words = submission.title.split()\n",
    "    cashtags = list(set(filter(lambda word: word.lower().startswith(\"$\"), words)))\n",
    "\n",
    "\n",
    "\n",
    "    if len(cashtags) > 0:\n",
    "        print(cashtags)\n",
    "        #### insert of mention table (place inside loop)\n",
    "        for cashtag in cashtags:\n",
    "            submitted_time = datetime.datetime.fromtimestamp(submission.created_utc).isoformat()\n",
    "\n",
    "            try:\n",
    "                cursor.execute(f\"\"\"\n",
    "                    INSERT INTO mention (dt, stock_id, message, source, url)\n",
    "                    VALUES (%s, %s, %s, '{current_source}', %s)\n",
    "                \"\"\",(submitted_time, stocks[cashtag.upper()], submission.title, submission.url))\n",
    "                connection.commit()\n",
    "            except Exception as e:\n",
    "                print(e)\n",
    "                connection.rollback()"
   ]
  },
  {
   "cell_type": "code",
   "execution_count": 5,
   "id": "2ec6718a",
   "metadata": {},
   "outputs": [],
   "source": [
    "connection.commit()"
   ]
  },
  {
   "cell_type": "code",
   "execution_count": 6,
   "id": "5f4032a8",
   "metadata": {},
   "outputs": [
    {
     "name": "stdout",
     "output_type": "stream",
     "text": [
      "[13740, 'plpgsql', 10, 11, False, '1.0', None, None]\n",
      "[16384, 'adminpack', 10, 11, False, '2.1', None, None]\n",
      "[34336, 'timescaledb', 10, 2200, False, '2.6.1', [34353, 34354, 34375, 34388, 34402, 34401, 34420, 34419, 34435, 34434, 34457, 34473, 34474, 34490, 34502, 34503, 34545, 34552, 34573, 34585, 34595, 34599, 34615, 34634, 34649, 34670, 34676, 34673], ['', '', '', '', '', '', '', '', '', '', '', '', '', '', '', 'WHERE id >= 1000', \"\\r\\n  WHERE KEY = 'exported_uuid' \", '', '', '', '', '', '', '', '', '', '', '']]\n"
     ]
    }
   ],
   "source": [
    "cursor.execute('SELECT * from pg_extension;')\n",
    "results = cursor.fetchall()\n",
    "for result in results:\n",
    "    print(result)\n"
   ]
  },
  {
   "cell_type": "code",
   "execution_count": 7,
   "id": "65c96534",
   "metadata": {},
   "outputs": [
    {
     "name": "stderr",
     "output_type": "stream",
     "text": [
      "C:\\Users\\thwal\\anaconda3\\envs\\reddit\\lib\\site-packages\\pandas\\io\\sql.py:761: UserWarning: pandas only support SQLAlchemy connectable(engine/connection) ordatabase string URI or sqlite3 DBAPI2 connectionother DBAPI2 objects are not tested, please consider using SQLAlchemy\n",
      "  warnings.warn(\n"
     ]
    },
    {
     "data": {
      "text/plain": [
       "Index(['stock_id', 'dt', 'message', 'source', 'url'], dtype='object')"
      ]
     },
     "execution_count": 7,
     "metadata": {},
     "output_type": "execute_result"
    }
   ],
   "source": [
    "pd.read_sql(\"SELECT * FROM mention\", connection).columns"
   ]
  },
  {
   "cell_type": "code",
   "execution_count": 8,
   "id": "48afa9a5",
   "metadata": {},
   "outputs": [
    {
     "name": "stdout",
     "output_type": "stream",
     "text": [
      "['b28f4066-5c6d-479b-a2af-85dc1a8f16fb', datetime.datetime(2022, 5, 24, 12, 41, 54), '$spy falling wedge and or downtrend channel Likely to breakout bullish this week from 20% bear territory. Shorts up for a big surprise with that 4M puts purchased today.', 'wallstreetbets', 'https://i.redd.it/fc1ibrddsc191.jpg']\n",
      "['fc6a5dcd-4a70-4b8d-b64f-d83a6dae9ba4', datetime.datetime(2022, 5, 24, 8, 21, 47), '$FB puts. I’m new at options. Around this price, what will this be worth at market open? $175 Put exp 6/03', 'wallstreetbets', 'https://i.redd.it/151msbpyhb191.jpg']\n",
      "['83e52ac1-bb18-4e9f-b68d-dda5a8af3ec0', datetime.datetime(2022, 5, 24, 7, 20, 24), '$SNAP who shot ya?', 'wallstreetbets', 'https://i.imgur.com/MlE6nQn.jpg']\n",
      "['9eae922d-8d67-4c40-b6ea-faca9b092b89', datetime.datetime(2022, 5, 24, 4, 39, 53), 'Minutes before market close my $GME calls had some.. interesting action', 'wallstreetbets', 'https://i.redd.it/yh3an5gdea191.jpg']\n",
      "['8842d59f-bae0-4bfc-a895-9d97ddedc70b', datetime.datetime(2022, 5, 24, 4, 37, 27), '$AMC sabotage', 'wallstreetbets', 'https://www.reddit.com/gallery/uw9r2u']\n",
      "['8842d59f-bae0-4bfc-a895-9d97ddedc70b', datetime.datetime(2022, 5, 24, 4, 28, 25), 'They take out the fuel every time $AMC @4:20 AH up 8% then gets hidden', 'wallstreetbets', 'https://i.redd.it/wkytrqubca191.jpg']\n",
      "['8842d59f-bae0-4bfc-a895-9d97ddedc70b', datetime.datetime(2022, 5, 24, 4, 22, 57), 'F*** you guys $AMC', 'wallstreetbets', 'https://www.reddit.com/gallery/uw9fp9']\n",
      "['c2963936-2b0f-4eae-a0cc-dc28d3b33885', datetime.datetime(2022, 5, 24, 3, 42, 11), '$ZM put YOLO- this is a loan from upstart.', 'wallstreetbets', 'https://i.redd.it/kuc4yot24a191.jpg']\n",
      "['cf80d13f-470c-4947-8593-c5e098aeba4e', datetime.datetime(2022, 5, 25, 11, 26, 41), '$CRM earnings next week', 'wallstreetbets', 'https://i.redd.it/6jc1wguujj191.jpg']\n",
      "['2f34c0b3-a4aa-4959-b52c-3c41b2c246c4', datetime.datetime(2022, 5, 25, 9, 4, 1), '$DIS taking Marvel properties off Netflix in order to solidify Cartel de Mickey:', 'wallstreetbets', 'https://v.redd.it/kr9v2ahdui191']\n",
      "['b28f4066-5c6d-479b-a2af-85dc1a8f16fb', datetime.datetime(2022, 5, 25, 6, 37, 41), '$SPY $365-$370 bottom', 'wallstreetbets', 'https://www.reddit.com/r/wallstreetbets/comments/ux30lf/spy_365370_bottom/']\n",
      "['83e52ac1-bb18-4e9f-b68d-dda5a8af3ec0', datetime.datetime(2022, 5, 25, 4, 31, 45), '$SNAP', 'wallstreetbets', 'https://i.redd.it/ecgukiythh191.jpg']\n",
      "['83e52ac1-bb18-4e9f-b68d-dda5a8af3ec0', datetime.datetime(2022, 5, 25, 4, 6, 54), 'RIP in Peace $SNAP', 'wallstreetbets', 'https://v.redd.it/6e1lw4sddh191']\n",
      "['fc6a5dcd-4a70-4b8d-b64f-d83a6dae9ba4', datetime.datetime(2022, 5, 25, 3, 40, 16), 'How to profit off my $182.5 $FB call', 'wallstreetbets', 'https://www.reddit.com/r/wallstreetbets/comments/uwz4zc/how_to_profit_off_my_1825_fb_call/']\n",
      "['3e3bbdb0-d6a4-4db1-8fbb-133f75fd4f66', datetime.datetime(2022, 5, 25, 3, 36, 44), '$EXPE - the next HF parking lot to go bust', 'wallstreetbets', 'https://www.reddit.com/r/wallstreetbets/comments/uwz25t/expe_the_next_hf_parking_lot_to_go_bust/']\n",
      "['1fb76b76-ae65-4f8c-8c36-0789ee062686', datetime.datetime(2022, 5, 27, 12, 50, 3), 'just came across the time I was in and took a ~40% loss on $MARA about 4-days before it went supersonic for 5 months', 'WallStreetBets', 'https://i.redd.it/w0zdi29k8y191.jpg']\n",
      "['91ee1b57-f36c-40cf-a8b7-84583daaafc9', datetime.datetime(2022, 5, 27, 12, 33, 45), 'i’m holding $DELL puts into tomorrow', 'WallStreetBets', 'https://i.redd.it/qnflvlin5y191.jpg']\n",
      "['f801f835-bfe6-4a9d-a6b1-ccbb84bfd75f', datetime.datetime(2022, 5, 27, 11, 5, 3), '$AMZN has some good shareholder proposals', 'WallStreetBets', 'https://www.wired.com/story/amazon-warehouse-worker-shareholder-proposal/']\n",
      "['8ccae427-5dd0-45b3-b5fe-7ba5e422c766', datetime.datetime(2022, 5, 27, 9, 11, 6), 'Yolo call option on $TSLA', 'WallStreetBets', 'https://www.reddit.com/gallery/uymhtc']\n",
      "['9eae922d-8d67-4c40-b6ea-faca9b092b89', datetime.datetime(2022, 5, 27, 6, 13, 57), 'Do Not Go Gentle Into That Good Night | $GME 🙌💎', 'WallStreetBets', 'https://v.redd.it/2ito07s78w191']\n",
      "['fc9ab435-44e7-45f5-ad53-92d3d76a2962', datetime.datetime(2022, 5, 27, 6, 10, 58), 'Best performing large cap stocks from today Dollar Tree $DLTR +21.9% Alibaba $BABA +14.8% Baidu $BIDU +14.1% Dollar General $DG +13.7% GameStop $GME +11.5% Lululemon $LULU +10.3% Caesars $CZR +10% $BTO +9.8% Splunk $SPLK +9.5% $NIO +9.5% Pinduoduo $PDD +9.5% $ETSY +9.3%', 'WallStreetBets', 'https://www.reddit.com/r/wallstreetbets/comments/uyiww7/best_performing_large_cap_stocks_from_today/']\n",
      "['36cc4a34-97dc-4e51-8ced-f9ac21cedd52', datetime.datetime(2022, 5, 27, 6, 10, 58), 'Best performing large cap stocks from today Dollar Tree $DLTR +21.9% Alibaba $BABA +14.8% Baidu $BIDU +14.1% Dollar General $DG +13.7% GameStop $GME +11.5% Lululemon $LULU +10.3% Caesars $CZR +10% $BTO +9.8% Splunk $SPLK +9.5% $NIO +9.5% Pinduoduo $PDD +9.5% $ETSY +9.3%', 'WallStreetBets', 'https://www.reddit.com/r/wallstreetbets/comments/uyiww7/best_performing_large_cap_stocks_from_today/']\n",
      "['bce94a21-f7e5-4e99-a2f4-9d76514742c4', datetime.datetime(2022, 5, 27, 6, 10, 58), 'Best performing large cap stocks from today Dollar Tree $DLTR +21.9% Alibaba $BABA +14.8% Baidu $BIDU +14.1% Dollar General $DG +13.7% GameStop $GME +11.5% Lululemon $LULU +10.3% Caesars $CZR +10% $BTO +9.8% Splunk $SPLK +9.5% $NIO +9.5% Pinduoduo $PDD +9.5% $ETSY +9.3%', 'WallStreetBets', 'https://www.reddit.com/r/wallstreetbets/comments/uyiww7/best_performing_large_cap_stocks_from_today/']\n",
      "['c8024b9e-d4cf-4afe-a8d9-2fa2d7ed73ac', datetime.datetime(2022, 5, 27, 6, 10, 58), 'Best performing large cap stocks from today Dollar Tree $DLTR +21.9% Alibaba $BABA +14.8% Baidu $BIDU +14.1% Dollar General $DG +13.7% GameStop $GME +11.5% Lululemon $LULU +10.3% Caesars $CZR +10% $BTO +9.8% Splunk $SPLK +9.5% $NIO +9.5% Pinduoduo $PDD +9.5% $ETSY +9.3%', 'WallStreetBets', 'https://www.reddit.com/r/wallstreetbets/comments/uyiww7/best_performing_large_cap_stocks_from_today/']\n",
      "['0ad15daa-ecfa-48e5-85e7-e9f5af988904', datetime.datetime(2022, 5, 27, 6, 10, 58), 'Best performing large cap stocks from today Dollar Tree $DLTR +21.9% Alibaba $BABA +14.8% Baidu $BIDU +14.1% Dollar General $DG +13.7% GameStop $GME +11.5% Lululemon $LULU +10.3% Caesars $CZR +10% $BTO +9.8% Splunk $SPLK +9.5% $NIO +9.5% Pinduoduo $PDD +9.5% $ETSY +9.3%', 'WallStreetBets', 'https://www.reddit.com/r/wallstreetbets/comments/uyiww7/best_performing_large_cap_stocks_from_today/']\n",
      "['d0d63992-2d20-4f63-aa62-30cf76fb3204', datetime.datetime(2022, 5, 27, 6, 10, 58), 'Best performing large cap stocks from today Dollar Tree $DLTR +21.9% Alibaba $BABA +14.8% Baidu $BIDU +14.1% Dollar General $DG +13.7% GameStop $GME +11.5% Lululemon $LULU +10.3% Caesars $CZR +10% $BTO +9.8% Splunk $SPLK +9.5% $NIO +9.5% Pinduoduo $PDD +9.5% $ETSY +9.3%', 'WallStreetBets', 'https://www.reddit.com/r/wallstreetbets/comments/uyiww7/best_performing_large_cap_stocks_from_today/']\n",
      "['2edb3ef9-b5d8-4667-be8f-334884498ac9', datetime.datetime(2022, 5, 27, 6, 10, 58), 'Best performing large cap stocks from today Dollar Tree $DLTR +21.9% Alibaba $BABA +14.8% Baidu $BIDU +14.1% Dollar General $DG +13.7% GameStop $GME +11.5% Lululemon $LULU +10.3% Caesars $CZR +10% $BTO +9.8% Splunk $SPLK +9.5% $NIO +9.5% Pinduoduo $PDD +9.5% $ETSY +9.3%', 'WallStreetBets', 'https://www.reddit.com/r/wallstreetbets/comments/uyiww7/best_performing_large_cap_stocks_from_today/']\n",
      "['31aa3cfa-8925-4cbc-98bc-74f411b7f17c', datetime.datetime(2022, 5, 27, 6, 10, 58), 'Best performing large cap stocks from today Dollar Tree $DLTR +21.9% Alibaba $BABA +14.8% Baidu $BIDU +14.1% Dollar General $DG +13.7% GameStop $GME +11.5% Lululemon $LULU +10.3% Caesars $CZR +10% $BTO +9.8% Splunk $SPLK +9.5% $NIO +9.5% Pinduoduo $PDD +9.5% $ETSY +9.3%', 'WallStreetBets', 'https://www.reddit.com/r/wallstreetbets/comments/uyiww7/best_performing_large_cap_stocks_from_today/']\n",
      "['9eae922d-8d67-4c40-b6ea-faca9b092b89', datetime.datetime(2022, 5, 27, 6, 10, 58), 'Best performing large cap stocks from today Dollar Tree $DLTR +21.9% Alibaba $BABA +14.8% Baidu $BIDU +14.1% Dollar General $DG +13.7% GameStop $GME +11.5% Lululemon $LULU +10.3% Caesars $CZR +10% $BTO +9.8% Splunk $SPLK +9.5% $NIO +9.5% Pinduoduo $PDD +9.5% $ETSY +9.3%', 'WallStreetBets', 'https://www.reddit.com/r/wallstreetbets/comments/uyiww7/best_performing_large_cap_stocks_from_today/']\n",
      "['0009164a-afa2-4b9c-aae6-571bbf12a2a9', datetime.datetime(2022, 5, 27, 6, 10, 58), 'Best performing large cap stocks from today Dollar Tree $DLTR +21.9% Alibaba $BABA +14.8% Baidu $BIDU +14.1% Dollar General $DG +13.7% GameStop $GME +11.5% Lululemon $LULU +10.3% Caesars $CZR +10% $BTO +9.8% Splunk $SPLK +9.5% $NIO +9.5% Pinduoduo $PDD +9.5% $ETSY +9.3%', 'WallStreetBets', 'https://www.reddit.com/r/wallstreetbets/comments/uyiww7/best_performing_large_cap_stocks_from_today/']\n",
      "['afe5e83b-b745-4017-b414-16c3e5cf1ebc', datetime.datetime(2022, 5, 27, 6, 10, 58), 'Best performing large cap stocks from today Dollar Tree $DLTR +21.9% Alibaba $BABA +14.8% Baidu $BIDU +14.1% Dollar General $DG +13.7% GameStop $GME +11.5% Lululemon $LULU +10.3% Caesars $CZR +10% $BTO +9.8% Splunk $SPLK +9.5% $NIO +9.5% Pinduoduo $PDD +9.5% $ETSY +9.3%', 'WallStreetBets', 'https://www.reddit.com/r/wallstreetbets/comments/uyiww7/best_performing_large_cap_stocks_from_today/']\n",
      "['112ff2dc-ecf1-4369-85bb-3364c94631cf', datetime.datetime(2022, 5, 27, 6, 10, 58), 'Best performing large cap stocks from today Dollar Tree $DLTR +21.9% Alibaba $BABA +14.8% Baidu $BIDU +14.1% Dollar General $DG +13.7% GameStop $GME +11.5% Lululemon $LULU +10.3% Caesars $CZR +10% $BTO +9.8% Splunk $SPLK +9.5% $NIO +9.5% Pinduoduo $PDD +9.5% $ETSY +9.3%', 'WallStreetBets', 'https://www.reddit.com/r/wallstreetbets/comments/uyiww7/best_performing_large_cap_stocks_from_today/']\n",
      "['fc9ab435-44e7-45f5-ad53-92d3d76a2962', datetime.datetime(2022, 5, 27, 6, 8, 33), 'Best performing large cap stocks from today Dollar Tree $DLTR +21.9% Alibaba $BABA +14.8% Baidu $BIDU +14.1% Dollar General $DG +13.7% GameStop $GME +11.5% Lululemon $LULU +10.3% Caesars $CZR +10% $BTO +9.8% Splunk $SPLK +9.5% $NIO +9.5% Pinduoduo $PDD +9.5% $ETSY +9.3%', 'WallStreetBets', 'https://www.reddit.com/r/wallstreetbets/comments/uyiv1g/best_performing_large_cap_stocks_from_today/']\n",
      "['36cc4a34-97dc-4e51-8ced-f9ac21cedd52', datetime.datetime(2022, 5, 27, 6, 8, 33), 'Best performing large cap stocks from today Dollar Tree $DLTR +21.9% Alibaba $BABA +14.8% Baidu $BIDU +14.1% Dollar General $DG +13.7% GameStop $GME +11.5% Lululemon $LULU +10.3% Caesars $CZR +10% $BTO +9.8% Splunk $SPLK +9.5% $NIO +9.5% Pinduoduo $PDD +9.5% $ETSY +9.3%', 'WallStreetBets', 'https://www.reddit.com/r/wallstreetbets/comments/uyiv1g/best_performing_large_cap_stocks_from_today/']\n",
      "['bce94a21-f7e5-4e99-a2f4-9d76514742c4', datetime.datetime(2022, 5, 27, 6, 8, 33), 'Best performing large cap stocks from today Dollar Tree $DLTR +21.9% Alibaba $BABA +14.8% Baidu $BIDU +14.1% Dollar General $DG +13.7% GameStop $GME +11.5% Lululemon $LULU +10.3% Caesars $CZR +10% $BTO +9.8% Splunk $SPLK +9.5% $NIO +9.5% Pinduoduo $PDD +9.5% $ETSY +9.3%', 'WallStreetBets', 'https://www.reddit.com/r/wallstreetbets/comments/uyiv1g/best_performing_large_cap_stocks_from_today/']\n",
      "['c8024b9e-d4cf-4afe-a8d9-2fa2d7ed73ac', datetime.datetime(2022, 5, 27, 6, 8, 33), 'Best performing large cap stocks from today Dollar Tree $DLTR +21.9% Alibaba $BABA +14.8% Baidu $BIDU +14.1% Dollar General $DG +13.7% GameStop $GME +11.5% Lululemon $LULU +10.3% Caesars $CZR +10% $BTO +9.8% Splunk $SPLK +9.5% $NIO +9.5% Pinduoduo $PDD +9.5% $ETSY +9.3%', 'WallStreetBets', 'https://www.reddit.com/r/wallstreetbets/comments/uyiv1g/best_performing_large_cap_stocks_from_today/']\n",
      "['0ad15daa-ecfa-48e5-85e7-e9f5af988904', datetime.datetime(2022, 5, 27, 6, 8, 33), 'Best performing large cap stocks from today Dollar Tree $DLTR +21.9% Alibaba $BABA +14.8% Baidu $BIDU +14.1% Dollar General $DG +13.7% GameStop $GME +11.5% Lululemon $LULU +10.3% Caesars $CZR +10% $BTO +9.8% Splunk $SPLK +9.5% $NIO +9.5% Pinduoduo $PDD +9.5% $ETSY +9.3%', 'WallStreetBets', 'https://www.reddit.com/r/wallstreetbets/comments/uyiv1g/best_performing_large_cap_stocks_from_today/']\n",
      "['d0d63992-2d20-4f63-aa62-30cf76fb3204', datetime.datetime(2022, 5, 27, 6, 8, 33), 'Best performing large cap stocks from today Dollar Tree $DLTR +21.9% Alibaba $BABA +14.8% Baidu $BIDU +14.1% Dollar General $DG +13.7% GameStop $GME +11.5% Lululemon $LULU +10.3% Caesars $CZR +10% $BTO +9.8% Splunk $SPLK +9.5% $NIO +9.5% Pinduoduo $PDD +9.5% $ETSY +9.3%', 'WallStreetBets', 'https://www.reddit.com/r/wallstreetbets/comments/uyiv1g/best_performing_large_cap_stocks_from_today/']\n",
      "['2edb3ef9-b5d8-4667-be8f-334884498ac9', datetime.datetime(2022, 5, 27, 6, 8, 33), 'Best performing large cap stocks from today Dollar Tree $DLTR +21.9% Alibaba $BABA +14.8% Baidu $BIDU +14.1% Dollar General $DG +13.7% GameStop $GME +11.5% Lululemon $LULU +10.3% Caesars $CZR +10% $BTO +9.8% Splunk $SPLK +9.5% $NIO +9.5% Pinduoduo $PDD +9.5% $ETSY +9.3%', 'WallStreetBets', 'https://www.reddit.com/r/wallstreetbets/comments/uyiv1g/best_performing_large_cap_stocks_from_today/']\n",
      "['31aa3cfa-8925-4cbc-98bc-74f411b7f17c', datetime.datetime(2022, 5, 27, 6, 8, 33), 'Best performing large cap stocks from today Dollar Tree $DLTR +21.9% Alibaba $BABA +14.8% Baidu $BIDU +14.1% Dollar General $DG +13.7% GameStop $GME +11.5% Lululemon $LULU +10.3% Caesars $CZR +10% $BTO +9.8% Splunk $SPLK +9.5% $NIO +9.5% Pinduoduo $PDD +9.5% $ETSY +9.3%', 'WallStreetBets', 'https://www.reddit.com/r/wallstreetbets/comments/uyiv1g/best_performing_large_cap_stocks_from_today/']\n",
      "['9eae922d-8d67-4c40-b6ea-faca9b092b89', datetime.datetime(2022, 5, 27, 6, 8, 33), 'Best performing large cap stocks from today Dollar Tree $DLTR +21.9% Alibaba $BABA +14.8% Baidu $BIDU +14.1% Dollar General $DG +13.7% GameStop $GME +11.5% Lululemon $LULU +10.3% Caesars $CZR +10% $BTO +9.8% Splunk $SPLK +9.5% $NIO +9.5% Pinduoduo $PDD +9.5% $ETSY +9.3%', 'WallStreetBets', 'https://www.reddit.com/r/wallstreetbets/comments/uyiv1g/best_performing_large_cap_stocks_from_today/']\n",
      "['0009164a-afa2-4b9c-aae6-571bbf12a2a9', datetime.datetime(2022, 5, 27, 6, 8, 33), 'Best performing large cap stocks from today Dollar Tree $DLTR +21.9% Alibaba $BABA +14.8% Baidu $BIDU +14.1% Dollar General $DG +13.7% GameStop $GME +11.5% Lululemon $LULU +10.3% Caesars $CZR +10% $BTO +9.8% Splunk $SPLK +9.5% $NIO +9.5% Pinduoduo $PDD +9.5% $ETSY +9.3%', 'WallStreetBets', 'https://www.reddit.com/r/wallstreetbets/comments/uyiv1g/best_performing_large_cap_stocks_from_today/']\n",
      "['afe5e83b-b745-4017-b414-16c3e5cf1ebc', datetime.datetime(2022, 5, 27, 6, 8, 33), 'Best performing large cap stocks from today Dollar Tree $DLTR +21.9% Alibaba $BABA +14.8% Baidu $BIDU +14.1% Dollar General $DG +13.7% GameStop $GME +11.5% Lululemon $LULU +10.3% Caesars $CZR +10% $BTO +9.8% Splunk $SPLK +9.5% $NIO +9.5% Pinduoduo $PDD +9.5% $ETSY +9.3%', 'WallStreetBets', 'https://www.reddit.com/r/wallstreetbets/comments/uyiv1g/best_performing_large_cap_stocks_from_today/']\n",
      "['112ff2dc-ecf1-4369-85bb-3364c94631cf', datetime.datetime(2022, 5, 27, 6, 8, 33), 'Best performing large cap stocks from today Dollar Tree $DLTR +21.9% Alibaba $BABA +14.8% Baidu $BIDU +14.1% Dollar General $DG +13.7% GameStop $GME +11.5% Lululemon $LULU +10.3% Caesars $CZR +10% $BTO +9.8% Splunk $SPLK +9.5% $NIO +9.5% Pinduoduo $PDD +9.5% $ETSY +9.3%', 'WallStreetBets', 'https://www.reddit.com/r/wallstreetbets/comments/uyiv1g/best_performing_large_cap_stocks_from_today/']\n",
      "['fc9ab435-44e7-45f5-ad53-92d3d76a2962', datetime.datetime(2022, 5, 27, 6, 7, 54), 'Best performing large cap stocks from today Dollar Tree $DLTR +21.9% Alibaba $BABA +14.8% Baidu $BIDU +14.1% Dollar General $DG +13.7% GameStop $GME +11.5% Lululemon $LULU +10.3% Caesars $CZR +10% $BTO +9.8% Splunk $SPLK +9.5% $NIO +9.5% Pinduoduo $PDD +9.5% $ETSY +9.3%', 'WallStreetBets', 'https://www.reddit.com/r/wallstreetbets/comments/uyiuj7/best_performing_large_cap_stocks_from_today/']\n",
      "['36cc4a34-97dc-4e51-8ced-f9ac21cedd52', datetime.datetime(2022, 5, 27, 6, 7, 54), 'Best performing large cap stocks from today Dollar Tree $DLTR +21.9% Alibaba $BABA +14.8% Baidu $BIDU +14.1% Dollar General $DG +13.7% GameStop $GME +11.5% Lululemon $LULU +10.3% Caesars $CZR +10% $BTO +9.8% Splunk $SPLK +9.5% $NIO +9.5% Pinduoduo $PDD +9.5% $ETSY +9.3%', 'WallStreetBets', 'https://www.reddit.com/r/wallstreetbets/comments/uyiuj7/best_performing_large_cap_stocks_from_today/']\n",
      "['bce94a21-f7e5-4e99-a2f4-9d76514742c4', datetime.datetime(2022, 5, 27, 6, 7, 54), 'Best performing large cap stocks from today Dollar Tree $DLTR +21.9% Alibaba $BABA +14.8% Baidu $BIDU +14.1% Dollar General $DG +13.7% GameStop $GME +11.5% Lululemon $LULU +10.3% Caesars $CZR +10% $BTO +9.8% Splunk $SPLK +9.5% $NIO +9.5% Pinduoduo $PDD +9.5% $ETSY +9.3%', 'WallStreetBets', 'https://www.reddit.com/r/wallstreetbets/comments/uyiuj7/best_performing_large_cap_stocks_from_today/']\n",
      "['c8024b9e-d4cf-4afe-a8d9-2fa2d7ed73ac', datetime.datetime(2022, 5, 27, 6, 7, 54), 'Best performing large cap stocks from today Dollar Tree $DLTR +21.9% Alibaba $BABA +14.8% Baidu $BIDU +14.1% Dollar General $DG +13.7% GameStop $GME +11.5% Lululemon $LULU +10.3% Caesars $CZR +10% $BTO +9.8% Splunk $SPLK +9.5% $NIO +9.5% Pinduoduo $PDD +9.5% $ETSY +9.3%', 'WallStreetBets', 'https://www.reddit.com/r/wallstreetbets/comments/uyiuj7/best_performing_large_cap_stocks_from_today/']\n",
      "['0ad15daa-ecfa-48e5-85e7-e9f5af988904', datetime.datetime(2022, 5, 27, 6, 7, 54), 'Best performing large cap stocks from today Dollar Tree $DLTR +21.9% Alibaba $BABA +14.8% Baidu $BIDU +14.1% Dollar General $DG +13.7% GameStop $GME +11.5% Lululemon $LULU +10.3% Caesars $CZR +10% $BTO +9.8% Splunk $SPLK +9.5% $NIO +9.5% Pinduoduo $PDD +9.5% $ETSY +9.3%', 'WallStreetBets', 'https://www.reddit.com/r/wallstreetbets/comments/uyiuj7/best_performing_large_cap_stocks_from_today/']\n",
      "['d0d63992-2d20-4f63-aa62-30cf76fb3204', datetime.datetime(2022, 5, 27, 6, 7, 54), 'Best performing large cap stocks from today Dollar Tree $DLTR +21.9% Alibaba $BABA +14.8% Baidu $BIDU +14.1% Dollar General $DG +13.7% GameStop $GME +11.5% Lululemon $LULU +10.3% Caesars $CZR +10% $BTO +9.8% Splunk $SPLK +9.5% $NIO +9.5% Pinduoduo $PDD +9.5% $ETSY +9.3%', 'WallStreetBets', 'https://www.reddit.com/r/wallstreetbets/comments/uyiuj7/best_performing_large_cap_stocks_from_today/']\n",
      "['2edb3ef9-b5d8-4667-be8f-334884498ac9', datetime.datetime(2022, 5, 27, 6, 7, 54), 'Best performing large cap stocks from today Dollar Tree $DLTR +21.9% Alibaba $BABA +14.8% Baidu $BIDU +14.1% Dollar General $DG +13.7% GameStop $GME +11.5% Lululemon $LULU +10.3% Caesars $CZR +10% $BTO +9.8% Splunk $SPLK +9.5% $NIO +9.5% Pinduoduo $PDD +9.5% $ETSY +9.3%', 'WallStreetBets', 'https://www.reddit.com/r/wallstreetbets/comments/uyiuj7/best_performing_large_cap_stocks_from_today/']\n",
      "['31aa3cfa-8925-4cbc-98bc-74f411b7f17c', datetime.datetime(2022, 5, 27, 6, 7, 54), 'Best performing large cap stocks from today Dollar Tree $DLTR +21.9% Alibaba $BABA +14.8% Baidu $BIDU +14.1% Dollar General $DG +13.7% GameStop $GME +11.5% Lululemon $LULU +10.3% Caesars $CZR +10% $BTO +9.8% Splunk $SPLK +9.5% $NIO +9.5% Pinduoduo $PDD +9.5% $ETSY +9.3%', 'WallStreetBets', 'https://www.reddit.com/r/wallstreetbets/comments/uyiuj7/best_performing_large_cap_stocks_from_today/']\n",
      "['9eae922d-8d67-4c40-b6ea-faca9b092b89', datetime.datetime(2022, 5, 27, 6, 7, 54), 'Best performing large cap stocks from today Dollar Tree $DLTR +21.9% Alibaba $BABA +14.8% Baidu $BIDU +14.1% Dollar General $DG +13.7% GameStop $GME +11.5% Lululemon $LULU +10.3% Caesars $CZR +10% $BTO +9.8% Splunk $SPLK +9.5% $NIO +9.5% Pinduoduo $PDD +9.5% $ETSY +9.3%', 'WallStreetBets', 'https://www.reddit.com/r/wallstreetbets/comments/uyiuj7/best_performing_large_cap_stocks_from_today/']\n",
      "['0009164a-afa2-4b9c-aae6-571bbf12a2a9', datetime.datetime(2022, 5, 27, 6, 7, 54), 'Best performing large cap stocks from today Dollar Tree $DLTR +21.9% Alibaba $BABA +14.8% Baidu $BIDU +14.1% Dollar General $DG +13.7% GameStop $GME +11.5% Lululemon $LULU +10.3% Caesars $CZR +10% $BTO +9.8% Splunk $SPLK +9.5% $NIO +9.5% Pinduoduo $PDD +9.5% $ETSY +9.3%', 'WallStreetBets', 'https://www.reddit.com/r/wallstreetbets/comments/uyiuj7/best_performing_large_cap_stocks_from_today/']\n",
      "['afe5e83b-b745-4017-b414-16c3e5cf1ebc', datetime.datetime(2022, 5, 27, 6, 7, 54), 'Best performing large cap stocks from today Dollar Tree $DLTR +21.9% Alibaba $BABA +14.8% Baidu $BIDU +14.1% Dollar General $DG +13.7% GameStop $GME +11.5% Lululemon $LULU +10.3% Caesars $CZR +10% $BTO +9.8% Splunk $SPLK +9.5% $NIO +9.5% Pinduoduo $PDD +9.5% $ETSY +9.3%', 'WallStreetBets', 'https://www.reddit.com/r/wallstreetbets/comments/uyiuj7/best_performing_large_cap_stocks_from_today/']\n",
      "['112ff2dc-ecf1-4369-85bb-3364c94631cf', datetime.datetime(2022, 5, 27, 6, 7, 54), 'Best performing large cap stocks from today Dollar Tree $DLTR +21.9% Alibaba $BABA +14.8% Baidu $BIDU +14.1% Dollar General $DG +13.7% GameStop $GME +11.5% Lululemon $LULU +10.3% Caesars $CZR +10% $BTO +9.8% Splunk $SPLK +9.5% $NIO +9.5% Pinduoduo $PDD +9.5% $ETSY +9.3%', 'WallStreetBets', 'https://www.reddit.com/r/wallstreetbets/comments/uyiuj7/best_performing_large_cap_stocks_from_today/']\n",
      "['9eae922d-8d67-4c40-b6ea-faca9b092b89', datetime.datetime(2022, 5, 27, 3, 1, 24), 'Is anyone else getting tired? $GME &amp; the constant hype + letdowns', 'WallStreetBets', 'https://www.reddit.com/r/wallstreetbets/comments/uyetmq/is_anyone_else_getting_tired_gme_the_constant/']\n",
      "['3a7b12f6-c31a-47f8-a060-29be727f3112', datetime.datetime(2022, 5, 27, 2, 55, 54), '$HMTXF employs an adept engineer as vice president of operations.', 'WallStreetBets', 'https://www.reddit.com/r/wallstreetbets/comments/uyep4a/hmtxf_employs_an_adept_engineer_as_vice_president/']\n",
      "['a87b8711-d78f-48e3-b8b9-3b88483f2057', datetime.datetime(2022, 5, 27, 2, 13, 12), 'How will $CGC Canopy Growth Corporation close after earnings are released Friday Morning 5/27 ?', 'WallStreetBets', 'https://www.reddit.com/r/wallstreetbets/comments/uydrjl/how_will_cgc_canopy_growth_corporation_close/']\n",
      "['0f58ea70-7c38-4dac-89a1-c40420b5c756', datetime.datetime(2022, 5, 27, 1, 30, 36), 'Low Float Insider Buying for $GRPN &amp; Buffett taking $PARA higher with Top Gun 2', 'WallStreetBets', 'https://www.reddit.com/r/wallstreetbets/comments/uycukx/low_float_insider_buying_for_grpn_buffett_taking/']\n",
      "['10a416b5-8ff3-42c6-91be-6d294b816503', datetime.datetime(2022, 5, 27, 1, 30, 36), 'Low Float Insider Buying for $GRPN &amp; Buffett taking $PARA higher with Top Gun 2', 'WallStreetBets', 'https://www.reddit.com/r/wallstreetbets/comments/uycukx/low_float_insider_buying_for_grpn_buffett_taking/']\n",
      "['9eae922d-8d67-4c40-b6ea-faca9b092b89', datetime.datetime(2022, 5, 27, 1, 30, 36), 'It’s a win/win if WSB smooth brain apes simultaneously buy calls and puts on $GME', 'WallStreetBets', 'https://www.reddit.com/r/wallstreetbets/comments/uycukp/its_a_winwin_if_wsb_smooth_brain_apes/']\n",
      "['9eae922d-8d67-4c40-b6ea-faca9b092b89', datetime.datetime(2022, 5, 27, 1, 7, 41), \"$GME gains this morning, let's not lose it this time\", 'WallStreetBets', 'https://i.redd.it/ffd62r34ru191.jpg']\n",
      "['6e1868f2-966a-46d9-a9b4-8824cbf08aff', datetime.datetime(2022, 5, 27, 1, 1, 36), '$HIBB', 'WallStreetBets', 'https://www.reddit.com/r/wallstreetbets/comments/uyc80c/hibb/']\n"
     ]
    }
   ],
   "source": [
    "cursor.execute(\"\"\"\n",
    "SELECT * FROM mention\n",
    "\"\"\")\n",
    "rows = cursor.fetchall()\n",
    "for i in rows:\n",
    "    print(i)"
   ]
  },
  {
   "cell_type": "code",
   "execution_count": 9,
   "id": "ac5f36dc",
   "metadata": {},
   "outputs": [
    {
     "ename": "SyntaxError",
     "evalue": "invalid syntax (1334801704.py, line 1)",
     "output_type": "error",
     "traceback": [
      "\u001b[1;36m  Input \u001b[1;32mIn [9]\u001b[1;36m\u001b[0m\n\u001b[1;33m    $\u001b[0m\n\u001b[1;37m    ^\u001b[0m\n\u001b[1;31mSyntaxError\u001b[0m\u001b[1;31m:\u001b[0m invalid syntax\n"
     ]
    }
   ],
   "source": [
    "$"
   ]
  },
  {
   "cell_type": "code",
   "execution_count": null,
   "id": "5371511f",
   "metadata": {},
   "outputs": [],
   "source": [
    "cursor.close()\n",
    "connection.commit()\n",
    "connection.close()"
   ]
  },
  {
   "cell_type": "code",
   "execution_count": null,
   "id": "5d4e016c",
   "metadata": {},
   "outputs": [],
   "source": []
  },
  {
   "cell_type": "code",
   "execution_count": null,
   "id": "edc02f3c",
   "metadata": {},
   "outputs": [],
   "source": []
  },
  {
   "cell_type": "code",
   "execution_count": null,
   "id": "21a65278",
   "metadata": {},
   "outputs": [],
   "source": []
  },
  {
   "cell_type": "code",
   "execution_count": null,
   "id": "52ca99e6",
   "metadata": {},
   "outputs": [],
   "source": []
  },
  {
   "cell_type": "code",
   "execution_count": null,
   "id": "8f83bc69",
   "metadata": {},
   "outputs": [],
   "source": []
  },
  {
   "cell_type": "code",
   "execution_count": null,
   "id": "7d6af80f",
   "metadata": {},
   "outputs": [],
   "source": []
  },
  {
   "cell_type": "code",
   "execution_count": null,
   "id": "5a95fd47",
   "metadata": {},
   "outputs": [],
   "source": []
  }
 ],
 "metadata": {
  "kernelspec": {
   "display_name": "reddit",
   "language": "python",
   "name": "reddit"
  }
 },
 "nbformat": 4,
 "nbformat_minor": 5
}
