{
 "cells": [
  {
   "cell_type": "code",
   "execution_count": 1,
   "id": "5f683356",
   "metadata": {},
   "outputs": [],
   "source": [
    "import pandas as pd\n",
    "import numpy as pd\n",
    "from psaw import PushshiftAPI\n",
    "import psycopg2 as pg\n",
    "import psycopg2.extras\n",
    "import datetime"
   ]
  },
  {
   "cell_type": "code",
   "execution_count": 2,
   "id": "c546eb8b",
   "metadata": {},
   "outputs": [],
   "source": [
    "start_time = int(datetime.datetime(2022,5,14).timestamp())"
   ]
  },
  {
   "cell_type": "code",
   "execution_count": 3,
   "id": "cf404233",
   "metadata": {},
   "outputs": [],
   "source": [
    "api = PushshiftAPI()"
   ]
  },
  {
   "cell_type": "code",
   "execution_count": 4,
   "id": "5fff95de",
   "metadata": {
    "scrolled": true
   },
   "outputs": [
    {
     "name": "stdout",
     "output_type": "stream",
     "text": [
      "['$spy']\n",
      "['$700/share']\n",
      "['$500,']\n",
      "['$38K']\n",
      "['$AMC.']\n",
      "['$175', '$FB']\n",
      "['$SNAP']\n",
      "['$1.5k']\n",
      "['$69']\n",
      "['$3k']\n",
      "['$1.35.', '$60']\n",
      "['$2.5K']\n",
      "['$2.5K']\n",
      "['$GME']\n",
      "['$AMC']\n",
      "['$90k']\n",
      "['$90k']\n",
      "['$AMC']\n",
      "['$bll']\n",
      "['$90k']\n",
      "['$AMC']\n",
      "['$40']\n",
      "['$500']\n",
      "['$ZM']\n",
      "['$500']\n",
      "['$QQQ']\n",
      "['$PRPL']\n",
      "['$TROJAN']\n",
      "['$TROJAN']\n",
      "['$ZIM-']\n",
      "['$BBAI:']\n",
      "['$1530']\n",
      "['$TSLA']\n",
      "['$BYND']\n",
      "['$RDBX']\n",
      "['$BBAI,']\n",
      "['$1000']\n",
      "['$100']\n",
      "['$1']\n",
      "['$BBAI']\n",
      "['$1']\n",
      "['$SU']\n",
      "['$BIDEN']\n",
      "['$WSG']\n",
      "['$BIDEN']\n",
      "['$BIDEN']\n",
      "['$BIDEN']\n",
      "['$SIGA:']\n",
      "['$SPY']\n",
      "['$SPY']\n",
      "['$30k', '$36k.']\n",
      "['$GOVX']\n",
      "['$SIGA', '$GOVX']\n",
      "['$2,000']\n",
      "['$200,000', '$1']\n",
      "['$1']\n",
      "['$250k']\n",
      "['$LUNA']\n",
      "['$200,000', '$1']\n",
      "['$40k']\n",
      "['$AMC']\n",
      "['$420.69']\n",
      "['$RDBX']\n",
      "['$100k']\n",
      "['$SRS?']\n",
      "['$100k']\n",
      "['$100k']\n",
      "['$10']\n",
      "['$SPY']\n",
      "['$SPY']\n",
      "['$SPX']\n",
      "['$BAVA', '$EBS']\n",
      "['$BVNRY', '$EBS']\n",
      "['$CNSP']\n",
      "['$CNSP']\n",
      "['$APPL']\n",
      "['$414']\n",
      "['$300', '$94']\n",
      "['$Luna', '$Lunc?']\n",
      "['$SPY']\n",
      "['$RRGB,']\n",
      "['$GME', '$AMC']\n",
      "['$BBBY']\n",
      "['$BBBY']\n",
      "['$10B']\n",
      "['$BBBY']\n",
      "['$BBBY']\n",
      "['$DUST']\n",
      "['$6k', '$TSLA', '$46k']\n"
     ]
    }
   ],
   "source": [
    "### Create a generator onject with {limit} submissions from {subreddit}\n",
    "### Showing only fields in {filter}\n",
    "submissions = list(api.search_submissions(after= start_time,\n",
    "                            subreddit = 'wallstreetbets',\n",
    "                            filter = [\"url\", \"author\", \"title\", \"subreddit\"],\n",
    "                            limit = 1000\n",
    "                                         ))\n",
    "\n",
    "for submission in submissions:\n",
    "#     print(submission.created_utc)\n",
    "#     print(submission.title)\n",
    "#     print(submission.url)\n",
    "    \n",
    "    words = submission.title.split()\n",
    "    cashtags = list(set(filter(lambda word: word.lower().startswith(\"$\"), words)))\n",
    "    \n",
    "#     if len(cashtags) > 0:\n",
    "#         print(cashtags)\n",
    "    "
   ]
  },
  {
   "cell_type": "code",
   "execution_count": 6,
   "id": "48afa9a5",
   "metadata": {},
   "outputs": [],
   "source": [
    "connection = pg.connect(\n",
    "   database=\"postgres\", user='postgres', password='admin', host='localhost', port= '5432'\n",
    ")"
   ]
  },
  {
   "cell_type": "code",
   "execution_count": 7,
   "id": "5371511f",
   "metadata": {},
   "outputs": [],
   "source": [
    "cursor = connection.cursor()"
   ]
  },
  {
   "cell_type": "code",
   "execution_count": 8,
   "id": "cb1a8828",
   "metadata": {},
   "outputs": [],
   "source": [
    "cursor.execute(\"\"\"CREATE EXTENSION IF NOT EXISTS timescaledb CASCADE;\"\"\")"
   ]
  },
  {
   "cell_type": "code",
   "execution_count": 9,
   "id": "5be57ac6",
   "metadata": {},
   "outputs": [],
   "source": [
    "cursor.execute('SELECT * from pg_exteansion;')\n",
    "results = cursor.fetchall()\n",
    "for result in results:\n",
    "    print(result)\n"
   ]
  },
  {
   "cell_type": "code",
   "execution_count": 10,
   "id": "398bf8a9",
   "metadata": {},
   "outputs": [
    {
     "name": "stdout",
     "output_type": "stream",
     "text": [
      "(13740, 'plpgsql', 10, 11, False, '1.0', None, None)\n",
      "(16384, 'adminpack', 10, 11, False, '2.1', None, None)\n",
      "(29444, 'timescaledb', 10, 2200, False, '2.6.1', [29461, 29462, 29483, 29496, 29510, 29509, 29528, 29527, 29543, 29542, 29565, 29581, 29582, 29598, 29610, 29611, 29653, 29660, 29681, 29693, 29703, 29707, 29723, 29742, 29757, 29778, 29784, 29781], ['', '', '', '', '', '', '', '', '', '', '', '', '', '', '', 'WHERE id >= 1000', \"\\r\\n  WHERE KEY = 'exported_uuid' \", '', '', '', '', '', '', '', '', '', '', ''])\n"
     ]
    }
   ],
   "source": [
    "results = cursor.fetchall()\n",
    "for result in results:\n",
    "    print(result)\n"
   ]
  },
  {
   "cell_type": "code",
   "execution_count": 11,
   "id": "d7e9794f",
   "metadata": {},
   "outputs": [],
   "source": [
    "cursor.execute(\"\"\"\n",
    "    CREATE TABLE IF NOT EXISTS  mention (\n",
    "    stock_id VARCHAR(255),\n",
    "    dt TIMESTAMP WITHOUT TIME ZONE NOT NULL,\n",
    "    message TEXT NOT NULL,\n",
    "    source TEXT NOt NULL, --reddit (subreddit), twitter ...\n",
    "    url TEXT NOT NULL,\n",
    "    PRIMARY KEY (stock_id, dt),\n",
    "    CONSTRAINT fk_mention_stock FOREIGN KEY (stock_id) REFERENCES tickers (internal_id)\n",
    "    );\n",
    "    SELECT create_hypertable('Mention', 'dt');\n",
    "\"\"\")"
   ]
  },
  {
   "cell_type": "code",
   "execution_count": 12,
   "id": "61c4ff69",
   "metadata": {},
   "outputs": [],
   "source": [
    "cursor = connection.cursor(cursor_factory=psycopg2.extras.DictCursor)"
   ]
  },
  {
   "cell_type": "code",
   "execution_count": 13,
   "id": "52ca99e6",
   "metadata": {},
   "outputs": [],
   "source": [
    "cursor.execute(\"\"\"\n",
    "SELECT * FROM tickers\n",
    "\"\"\")\n",
    "rows = cursor.fetchall()\n",
    "stocks = {}\n",
    "for row in rows:\n",
    "    stocks[f\"${row['symbol']}\"] = row[\"internal_id\"]\n",
    "    \n",
    "    \n",
    "#### insert of mention table (place inside loop)\n",
    "for cashtag in cashtags:\n",
    "    submitted_time = datetime.datetime.fromtimestamp(submission.created_utc).isoformat()\n",
    "    \n",
    "    try:\n",
    "        cursor.execute(\"\"\"\n",
    "            INSERT INTO mention (dt, stock, message, source, url)\n",
    "            VALUES (%s, %s, %s, 'wallstreetbets', %s)\n",
    "        \"\"\",(submitted_time, stocks[cashtag], submission.title, submission.url))\n",
    "        connection.commit()\n",
    "    except Expection as e:\n",
    "        print(e)\n",
    "        conection.rollback()"
   ]
  },
  {
   "cell_type": "code",
   "execution_count": 14,
   "id": "226ecdae",
   "metadata": {},
   "outputs": [],
   "source": [
    "cursor.execute(\"\"\"\n",
    "SELECT * FROM mention\n",
    "\"\"\")\n",
    "rows = cursor.fetchall()\n",
    "for i in rows:\n",
    "    print(i)"
   ]
  },
  {
   "cell_type": "code",
   "execution_count": 15,
   "id": "7d6af80f",
   "metadata": {},
   "outputs": [],
   "source": [
    "cursor.close()\n",
    "connection.close()"
   ]
  },
  {
   "cell_type": "code",
   "execution_count": null,
   "id": "5a95fd47",
   "metadata": {},
   "outputs": [],
   "source": []
  }
 ],
 "metadata": {
  "kernelspec": {
   "display_name": "reddit",
   "language": "python",
   "name": "reddit"
  },
  "language_info": {
   "codemirror_mode": {
    "name": "ipython",
    "version": 3
   },
   "file_extension": ".py",
   "mimetype": "text/x-python",
   "name": "python",
   "nbconvert_exporter": "python",
   "pygments_lexer": "ipython3",
   "version": "3.9.12"
  }
 },
 "nbformat": 4,
 "nbformat_minor": 5
}
